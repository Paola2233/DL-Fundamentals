{
 "cells": [
  {
   "cell_type": "markdown",
   "metadata": {},
   "source": [
    "## Solving a linear regression problem using a neural network"
   ]
  },
  {
   "cell_type": "code",
   "execution_count": 16,
   "metadata": {},
   "outputs": [],
   "source": [
    "import pandas as pd\n",
    "import numpy as np\n",
    "from keras.datasets import boston_housing\n",
    "from keras import layers, models\n",
    "from tensorflow.keras import optimizers"
   ]
  },
  {
   "cell_type": "code",
   "execution_count": 2,
   "metadata": {},
   "outputs": [],
   "source": [
    "(train_data, train_labels), (test_data, test_labels) = boston_housing.load_data()"
   ]
  },
  {
   "cell_type": "code",
   "execution_count": 3,
   "metadata": {},
   "outputs": [
    {
     "data": {
      "text/plain": [
       "(404, 13)"
      ]
     },
     "execution_count": 3,
     "metadata": {},
     "output_type": "execute_result"
    }
   ],
   "source": [
    "train_data.shape"
   ]
  },
  {
   "cell_type": "code",
   "execution_count": 4,
   "metadata": {},
   "outputs": [
    {
     "data": {
      "text/plain": [
       "(404,)"
      ]
     },
     "execution_count": 4,
     "metadata": {},
     "output_type": "execute_result"
    }
   ],
   "source": [
    "train_labels.shape"
   ]
  },
  {
   "cell_type": "code",
   "execution_count": 5,
   "metadata": {},
   "outputs": [
    {
     "data": {
      "text/plain": [
       "array([  1.23247,   0.     ,   8.14   ,   0.     ,   0.538  ,   6.142  ,\n",
       "        91.7    ,   3.9769 ,   4.     , 307.     ,  21.     , 396.9    ,\n",
       "        18.72   ])"
      ]
     },
     "execution_count": 5,
     "metadata": {},
     "output_type": "execute_result"
    }
   ],
   "source": [
    "train_data[0]"
   ]
  },
  {
   "cell_type": "markdown",
   "metadata": {},
   "source": [
    "We have to normalize the data"
   ]
  },
  {
   "cell_type": "code",
   "execution_count": 6,
   "metadata": {},
   "outputs": [],
   "source": [
    "mean = train_data.mean(axis=0)\n",
    "train_data = train_data - mean\n",
    "std = train_data.std(axis=0)\n",
    "train_data = train_data / std\n",
    "\n",
    "test_data = test_data - mean\n",
    "test_data = test_data / std"
   ]
  },
  {
   "cell_type": "code",
   "execution_count": 14,
   "metadata": {},
   "outputs": [],
   "source": [
    "def build_model_regression(lr_var, input_data):\n",
    "    model = models.Sequential()\n",
    "    model.add(layers.Dense(64, activation='relu', input_shape=(input_data,)))\n",
    "    model.add(layers.Dense(64, activation='relu'))\n",
    "    model.add(layers.Dense(1))\n",
    "\n",
    "    model.compile(optimizer=optimizers.RMSprop(lr=lr_var),\n",
    "        loss='mse',\n",
    "        metrics=['mae'])\n",
    "    return model"
   ]
  },
  {
   "cell_type": "code",
   "execution_count": 8,
   "metadata": {},
   "outputs": [],
   "source": [
    "k = 4\n",
    "num_val_samples = len(train_data) // k\n",
    "num_epoch = 80\n",
    "\n",
    "all_history = []"
   ]
  },
  {
   "cell_type": "code",
   "execution_count": 13,
   "metadata": {},
   "outputs": [
    {
     "data": {
      "text/plain": [
       "202"
      ]
     },
     "execution_count": 13,
     "metadata": {},
     "output_type": "execute_result"
    }
   ],
   "source": [
    "value = 2\n",
    "value * num_val_samples"
   ]
  },
  {
   "cell_type": "code",
   "execution_count": 18,
   "metadata": {},
   "outputs": [
    {
     "name": "stdout",
     "output_type": "stream",
     "text": [
      "Fold: 0\n",
      "Fold: 1\n",
      "Fold: 2\n",
      "Fold: 3\n"
     ]
    }
   ],
   "source": [
    "for i in range(k):\n",
    "    print('Fold:', i)\n",
    "    val_data = train_data[i*num_val_samples: (i+1)*num_val_samples]\n",
    "    val_target = train_labels[i*num_val_samples: (i+1)*num_val_samples]\n",
    "\n",
    "    partial_train_data = np.concatenate([\n",
    "        train_data[:i * num_val_samples],\n",
    "        train_data[(i+1) * num_val_samples:]\n",
    "        ],\n",
    "        axis=0\n",
    "    )\n",
    "\n",
    "    partial_train_targets = np.concatenate([\n",
    "        train_labels[:i * num_val_samples],\n",
    "        train_labels[(i+1) * num_val_samples:]\n",
    "        ],\n",
    "        axis=0\n",
    "    )\n",
    "\n",
    "    model = build_model_regression(0.001, 13)\n",
    "    history = model.fit(partial_train_data, partial_train_targets,\n",
    "        epochs=num_epoch,\n",
    "        batch_size=16,\n",
    "        validation_data=(val_data, val_target),\n",
    "        verbose=0)\n",
    "\n",
    "    all_history.append(history.history['val_mae'])"
   ]
  },
  {
   "cell_type": "code",
   "execution_count": 19,
   "metadata": {},
   "outputs": [
    {
     "data": {
      "text/plain": [
       "80"
      ]
     },
     "execution_count": 19,
     "metadata": {},
     "output_type": "execute_result"
    }
   ],
   "source": [
    "len(all_history[0])"
   ]
  },
  {
   "cell_type": "code",
   "execution_count": 20,
   "metadata": {},
   "outputs": [
    {
     "data": {
      "text/plain": [
       "[18.68265151977539,\n",
       " 15.25568675994873,\n",
       " 11.023076057434082,\n",
       " 7.08678674697876,\n",
       " 5.075531482696533,\n",
       " 4.239210605621338,\n",
       " 3.907670736312866,\n",
       " 3.589332103729248,\n",
       " 3.4784364700317383,\n",
       " 3.263150691986084,\n",
       " 3.1036341190338135,\n",
       " 3.1742260456085205,\n",
       " 2.9402270317077637,\n",
       " 2.908832550048828,\n",
       " 2.8730435371398926,\n",
       " 2.700927734375,\n",
       " 2.6805758476257324,\n",
       " 2.5927014350891113,\n",
       " 2.556248664855957,\n",
       " 2.5465619564056396,\n",
       " 2.5493507385253906,\n",
       " 2.4202373027801514,\n",
       " 2.3717281818389893,\n",
       " 2.4281394481658936,\n",
       " 2.3310837745666504,\n",
       " 2.3013713359832764,\n",
       " 2.2733540534973145,\n",
       " 2.2227842807769775,\n",
       " 2.250178337097168,\n",
       " 2.22151780128479,\n",
       " 2.2052767276763916,\n",
       " 2.2586071491241455,\n",
       " 2.1544220447540283,\n",
       " 2.1321983337402344,\n",
       " 2.1567249298095703,\n",
       " 2.1357979774475098,\n",
       " 2.1536858081817627,\n",
       " 2.116163730621338,\n",
       " 2.190315008163452,\n",
       " 2.0552611351013184,\n",
       " 2.108398199081421,\n",
       " 2.054197311401367,\n",
       " 2.056774377822876,\n",
       " 2.115865468978882,\n",
       " 2.0094943046569824,\n",
       " 2.0368616580963135,\n",
       " 2.0338051319122314,\n",
       " 2.2139852046966553,\n",
       " 2.023956060409546,\n",
       " 1.9980182647705078,\n",
       " 2.0479207038879395,\n",
       " 2.061913013458252,\n",
       " 1.9823867082595825,\n",
       " 2.044914484024048,\n",
       " 1.9386723041534424,\n",
       " 2.200786828994751,\n",
       " 2.0140531063079834,\n",
       " 2.0932297706604004,\n",
       " 1.9651455879211426,\n",
       " 2.1586380004882812,\n",
       " 1.978085994720459,\n",
       " 2.0627195835113525,\n",
       " 1.9510769844055176,\n",
       " 1.9272781610488892,\n",
       " 1.9460222721099854,\n",
       " 2.0370466709136963,\n",
       " 2.3200786113739014,\n",
       " 2.0598742961883545,\n",
       " 2.106962203979492,\n",
       " 1.983630657196045,\n",
       " 1.9736162424087524,\n",
       " 1.936699628829956,\n",
       " 1.9469562768936157,\n",
       " 1.9157912731170654,\n",
       " 1.9961713552474976,\n",
       " 1.9518157243728638,\n",
       " 1.9744538068771362,\n",
       " 2.0674445629119873,\n",
       " 1.9599331617355347,\n",
       " 1.924972414970398]"
      ]
     },
     "execution_count": 20,
     "metadata": {},
     "output_type": "execute_result"
    }
   ],
   "source": [
    "all_history[0]"
   ]
  },
  {
   "cell_type": "code",
   "execution_count": 23,
   "metadata": {},
   "outputs": [
    {
     "data": {
      "text/plain": [
       "0     18.901000\n",
       "1     15.193702\n",
       "2     10.830604\n",
       "3      7.247948\n",
       "4      5.524745\n",
       "        ...    \n",
       "75     2.444805\n",
       "76     2.398302\n",
       "77     2.444304\n",
       "78     2.355138\n",
       "79     2.355227\n",
       "Length: 80, dtype: float64"
      ]
     },
     "execution_count": 23,
     "metadata": {},
     "output_type": "execute_result"
    }
   ],
   "source": [
    "all_mae_avg = pd.DataFrame(all_history).mean(axis=0)\n",
    "all_mae_avg"
   ]
  },
  {
   "cell_type": "markdown",
   "metadata": {},
   "source": [
    "# Analysis results"
   ]
  },
  {
   "cell_type": "markdown",
   "metadata": {},
   "source": [
    "## Visualization"
   ]
  },
  {
   "cell_type": "code",
   "execution_count": 24,
   "metadata": {},
   "outputs": [],
   "source": [
    "import matplotlib.pyplot as plt"
   ]
  },
  {
   "cell_type": "code",
   "execution_count": 29,
   "metadata": {},
   "outputs": [
    {
     "data": {
      "image/png": "[encoded data removed]",
      "text/plain": [
       "<Figure size 720x720 with 1 Axes>"
      ]
     },
     "metadata": {
      "needs_background": "light"
     },
     "output_type": "display_data"
    }
   ],
   "source": [
    "fig = plt.figure(figsize=(10, 10))\n",
    "plt.plot(range(1, len(all_mae_avg[5:]) + 1), all_mae_avg[5:])\n",
    "plt.show()"
   ]
  },
  {
   "cell_type": "code",
   "execution_count": 30,
   "metadata": {},
   "outputs": [
    {
     "name": "stdout",
     "output_type": "stream",
     "text": [
      "4/4 [==============================] - 0s 4ms/step - loss: 18.8908 - mae: 2.7562\n"
     ]
    },
    {
     "data": {
      "text/plain": [
       "[18.890792846679688, 2.756223440170288]"
      ]
     },
     "execution_count": 30,
     "metadata": {},
     "output_type": "execute_result"
    }
   ],
   "source": [
    "## Evaluation of the model\n",
    "model.evaluate(test_data, test_labels)"
   ]
  },
  {
   "cell_type": "code",
   "execution_count": null,
   "metadata": {},
   "outputs": [],
   "source": []
  }
 ],
 "metadata": {
  "kernelspec": {
   "display_name": "Python 3.10.4 ('ml')",
   "language": "python",
   "name": "python3"
  },
  "language_info": {
   "codemirror_mode": {
    "name": "ipython",
    "version": 3
   },
   "file_extension": ".py",
   "mimetype": "text/x-python",
   "name": "python",
   "nbconvert_exporter": "python",
   "pygments_lexer": "ipython3",
   "version": "3.10.4"
  },
  "orig_nbformat": 4,
  "vscode": {
   "interpreter": {
    "hash": "b35309f25d95297daf931f060e8e84fc2d120cbcd26b9a81e23015c5a73c08cf"
   }
  }
 },
 "nbformat": 4,
 "nbformat_minor": 2
}
