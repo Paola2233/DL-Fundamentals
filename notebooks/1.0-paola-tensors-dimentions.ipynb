{
 "cells": [
  {
   "cell_type": "markdown",
   "metadata": {},
   "source": [
    "# Dimentions, tensors and reshape"
   ]
  },
  {
   "cell_type": "code",
   "execution_count": 1,
   "metadata": {},
   "outputs": [],
   "source": [
    "import numpy as np"
   ]
  },
  {
   "cell_type": "markdown",
   "metadata": {},
   "source": [
    "## Scalar"
   ]
  },
  {
   "cell_type": "code",
   "execution_count": 8,
   "metadata": {},
   "outputs": [
    {
     "name": "stdout",
     "output_type": "stream",
     "text": [
      "Shape: ()\n",
      "Dimentions: 0\n"
     ]
    }
   ],
   "source": [
    "x = np.array(42)\n",
    "print(f'''Shape: {x.shape}\n",
    "Dimentions: {x.ndim}''')"
   ]
  },
  {
   "cell_type": "markdown",
   "metadata": {},
   "source": [
    "## Vector"
   ]
  },
  {
   "cell_type": "code",
   "execution_count": 9,
   "metadata": {},
   "outputs": [
    {
     "name": "stdout",
     "output_type": "stream",
     "text": [
      "Shape: (7,)\n",
      "Dimentions: 1\n"
     ]
    }
   ],
   "source": [
    "x = np.array([42, 3, 4, 5, 6, 7, 8])\n",
    "print(f'''Shape: {x.shape}\n",
    "Dimentions: {x.ndim}''')"
   ]
  },
  {
   "cell_type": "markdown",
   "metadata": {},
   "source": [
    "## Matrix"
   ]
  },
  {
   "cell_type": "code",
   "execution_count": 10,
   "metadata": {},
   "outputs": [
    {
     "name": "stdout",
     "output_type": "stream",
     "text": [
      "Shape: (2, 7)\n",
      "Dimentions: 2\n"
     ]
    }
   ],
   "source": [
    "x = np.array([[42, 3, 4, 5, 6, 7, 8],\n",
    "    [1, 2, 3, 4, 5, 6, 7]])\n",
    "print(f'''Shape: {x.shape}\n",
    "Dimentions: {x.ndim}''')"
   ]
  },
  {
   "cell_type": "markdown",
   "metadata": {},
   "source": [
    "## Tensor"
   ]
  },
  {
   "cell_type": "code",
   "execution_count": 12,
   "metadata": {},
   "outputs": [
    {
     "name": "stdout",
     "output_type": "stream",
     "text": [
      "Shape: (2, 2, 7)\n",
      "Dimentions: 3\n"
     ]
    }
   ],
   "source": [
    "x = np.array([[[42, 3, 4, 5, 6, 7, 8],\n",
    "    [1, 2, 3, 4, 5, 6, 7]],\n",
    "    [[42, 3, 4, 5, 6, 7, 8],\n",
    "    [1, 2, 3, 4, 5, 6, 7]]])\n",
    "print(f'''Shape: {x.shape}\n",
    "Dimentions: {x.ndim}''')"
   ]
  },
  {
   "cell_type": "markdown",
   "metadata": {},
   "source": [
    "## Reshape"
   ]
  },
  {
   "cell_type": "code",
   "execution_count": 15,
   "metadata": {},
   "outputs": [
    {
     "data": {
      "text/plain": [
       "(7, 2)"
      ]
     },
     "execution_count": 15,
     "metadata": {},
     "output_type": "execute_result"
    }
   ],
   "source": [
    "x = np.array([[0,1],\n",
    "    [2, 5],\n",
    "    [4, 6],\n",
    "    [7, 9],\n",
    "    [9, 4],\n",
    "    [4, 1],\n",
    "    [6, 3]\n",
    "    ])\n",
    "x.shape"
   ]
  },
  {
   "cell_type": "code",
   "execution_count": 17,
   "metadata": {},
   "outputs": [
    {
     "data": {
      "text/plain": [
       "array([[0],\n",
       "       [1],\n",
       "       [2],\n",
       "       [5],\n",
       "       [4],\n",
       "       [6],\n",
       "       [7],\n",
       "       [9],\n",
       "       [9],\n",
       "       [4],\n",
       "       [4],\n",
       "       [1],\n",
       "       [6],\n",
       "       [3]])"
      ]
     },
     "execution_count": 17,
     "metadata": {},
     "output_type": "execute_result"
    }
   ],
   "source": [
    "x.reshape(14, 1)"
   ]
  },
  {
   "cell_type": "code",
   "execution_count": 18,
   "metadata": {},
   "outputs": [
    {
     "data": {
      "text/plain": [
       "array([[0, 1, 2, 5, 4, 6, 7],\n",
       "       [9, 9, 4, 4, 1, 6, 3]])"
      ]
     },
     "execution_count": 18,
     "metadata": {},
     "output_type": "execute_result"
    }
   ],
   "source": [
    "x.reshape(2, 7)"
   ]
  },
  {
   "cell_type": "markdown",
   "metadata": {},
   "source": [
    "## Transpose"
   ]
  },
  {
   "cell_type": "code",
   "execution_count": 19,
   "metadata": {},
   "outputs": [
    {
     "data": {
      "text/plain": [
       "array([[0, 2, 4, 7, 9, 4, 6],\n",
       "       [1, 5, 6, 9, 4, 1, 3]])"
      ]
     },
     "execution_count": 19,
     "metadata": {},
     "output_type": "execute_result"
    }
   ],
   "source": [
    "np.transpose(x)"
   ]
  },
  {
   "cell_type": "code",
   "execution_count": 20,
   "metadata": {},
   "outputs": [
    {
     "data": {
      "text/plain": [
       "array([[0, 2, 4, 7, 9, 4, 6],\n",
       "       [1, 5, 6, 9, 4, 1, 3]])"
      ]
     },
     "execution_count": 20,
     "metadata": {},
     "output_type": "execute_result"
    }
   ],
   "source": [
    "x.T"
   ]
  }
 ],
 "metadata": {
  "kernelspec": {
   "display_name": "Python 3.10.4 ('ml')",
   "language": "python",
   "name": "python3"
  },
  "language_info": {
   "codemirror_mode": {
    "name": "ipython",
    "version": 3
   },
   "file_extension": ".py",
   "mimetype": "text/x-python",
   "name": "python",
   "nbconvert_exporter": "python",
   "pygments_lexer": "ipython3",
   "version": "3.10.4"
  },
  "orig_nbformat": 4,
  "vscode": {
   "interpreter": {
    "hash": "b35309f25d95297daf931f060e8e84fc2d120cbcd26b9a81e23015c5a73c08cf"
   }
  }
 },
 "nbformat": 4,
 "nbformat_minor": 2
}
